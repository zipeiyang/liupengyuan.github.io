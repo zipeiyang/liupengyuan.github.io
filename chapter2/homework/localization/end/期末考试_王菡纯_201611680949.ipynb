{
 "cells": [
  {
   "cell_type": "code",
   "execution_count": 19,
   "metadata": {
    "collapsed": false,
    "scrolled": false
   },
   "outputs": [
    {
     "name": "stdout",
     "output_type": "stream",
     "text": [
      "行数：5\n",
      "符号：*\n",
      "    * \n",
      "   * * \n",
      "  * * * \n",
      " * * * * \n",
      "* * * * * \n",
      " * * * * \n",
      "  * * * \n",
      "   * * \n",
      "    * \n"
     ]
    }
   ],
   "source": [
    "#1\n",
    "def lingxing():\n",
    "    n=int(input('行数：'))\n",
    "    s=str(input('符号：'))\n",
    "    for i in range(1,n+1):\n",
    "        print((n-i)*' '+(s+' ')*i)\n",
    "    for i in range(n+1,n*2):\n",
    "        print((i-n)*' '+(s+' ')*(i-(2*(i-n))))\n",
    "    \n",
    "lingxing()"
   ]
  },
  {
   "cell_type": "code",
   "execution_count": 7,
   "metadata": {
    "collapsed": false
   },
   "outputs": [
    {
     "name": "stdout",
     "output_type": "stream",
     "text": [
      "指定数字范围：10\n",
      "4037913\n",
      "4037913\n"
     ]
    }
   ],
   "source": [
    "#2\n",
    "\n",
    "#非递归\n",
    "def multi1():\n",
    "    n=int(input('指定数字范围：'))\n",
    "    product=1\n",
    "    total=0\n",
    "    for number in range(1,n+1):\n",
    "        product*=number\n",
    "        total+=product\n",
    "    print(total)\n",
    "    \n",
    "#递归\n",
    "def multi2():\n",
    "    total=0\n",
    "    def multi(n):\n",
    "        if n==0:\n",
    "            return 1\n",
    "        else:\n",
    "            return n*multi(n-1)\n",
    "    a=multi(1)\n",
    "    b=multi(2)\n",
    "    c=multi(3)\n",
    "    d=multi(4)\n",
    "    e=multi(5)\n",
    "    f=multi(6)\n",
    "    g=multi(7)\n",
    "    h=multi(8)\n",
    "    i=multi(9)\n",
    "    j=multi(10)\n",
    "    \n",
    "    total=a+b+c+d+e+f+g+h+i+j\n",
    "    print(total)\n",
    "multi1()\n",
    "multi2()"
   ]
  },
  {
   "cell_type": "code",
   "execution_count": null,
   "metadata": {
    "collapsed": false
   },
   "outputs": [],
   "source": [
    "#3\n",
    "import random\n",
    "X=['A','B','C','D','E','F','G','H','J','K','L','M','N','P','Q','R','S','T','U','V','W','X','Y','Z']\n",
    "Y=[0,1,2,3,4,5,6,7,8,9]\n",
    "cnumbers=[]\n",
    "i=0\n",
    "while i<=9:\n",
    "    cnumbers.append('{}-{}{}{}{}{}'.format(random.choice(X),random.choice(Y),random.choice(Y),random.choice(Y),random.choice(Y),random.choice(Y)))\n",
    "for cnumber in cnumbers:\n",
    "    print({},{}.format(cnumbers.index(cnumbers),cnumber))"
   ]
  },
  {
   "cell_type": "code",
   "execution_count": null,
   "metadata": {
    "collapsed": true
   },
   "outputs": [],
   "source": [
    "#4\n",
    "import math\n",
    "\n",
    "def list_cos(list1,list2):\n",
    "    total=0\n",
    "    total1=0\n",
    "    total2=0\n",
    "    for i in range(len(list1)):\n",
    "        total+=list1[i]*list2[i]\n",
    "        total1+=list1[i]*list1[i]\n",
    "        total2+=list2[i]*list2[i]\n",
    "    return total/(math.sqrt(total_1)*math.sqrt(total_2))\n",
    "\n",
    "a=list_cos([1,2,3,4],[4,5,6,7])\n",
    "b=list_cos([1,2,3,4],[7,8,9,10])\n",
    "c=list_cos([4,5,6,7],[7,8,9,10])\n",
    "min_=a\n",
    "if a>b:\n",
    "    min_=b\n",
    "    if b>c:\n",
    "        min_=c\n",
    "    else:\n",
    "        min_=b\n",
    "elif a>c:\n",
    "    min_=c\n",
    "    if c>b:\n",
    "        min_=b\n",
    "    else:\n",
    "        min_=c\n",
    "else:\n",
    "    min_=a\n",
    "\n",
    "print(min_)"
   ]
  },
  {
   "cell_type": "code",
   "execution_count": null,
   "metadata": {
    "collapsed": true
   },
   "outputs": [],
   "source": [
    "#5\n",
    "import random\n",
    "\n",
    "i=1\n",
    "A=[]\n",
    "B=[]\n",
    "while i<=100000:\n",
    "    n=random.randint(1,10000)\n",
    "    A.append(n)\n",
    "    m=random.randint(1,15000)\n",
    "    B.append(m)\n",
    "#(a)\n",
    "with open (r:'d:\\temp\\a.txt','w') as a, open (r:'d:\\temp\\b.txt','w') as b:\n",
    "    for numbersA in A:\n",
    "        a.write(numbersA)\n",
    "    for numbersB in B:\n",
    "        b.write(numbersB)"
   ]
  }
 ],
 "metadata": {
  "kernelspec": {
   "display_name": "Python 3",
   "language": "python",
   "name": "python3"
  },
  "language_info": {
   "codemirror_mode": {
    "name": "ipython",
    "version": 3
   },
   "file_extension": ".py",
   "mimetype": "text/x-python",
   "name": "python",
   "nbconvert_exporter": "python",
   "pygments_lexer": "ipython3",
   "version": "3.6.0"
  }
 },
 "nbformat": 4,
 "nbformat_minor": 2
}
