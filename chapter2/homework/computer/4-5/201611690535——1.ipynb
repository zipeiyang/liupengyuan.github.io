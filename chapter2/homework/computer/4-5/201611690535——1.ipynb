{
 "cells": [
  {
   "cell_type": "code",
   "execution_count": 7,
   "metadata": {
    "collapsed": false,
    "deletable": true,
    "editable": true
   },
   "outputs": [
    {
     "name": "stdout",
     "output_type": "stream",
     "text": [
      "请输入所要求的整数个数，以回车结束。2\n",
      "请输入一个整数作为m。3\n",
      "请输入另一个整数作为k。8\n"
     ]
    },
    {
     "data": {
      "text/plain": [
       "2.8284271247461903"
      ]
     },
     "execution_count": 7,
     "metadata": {},
     "output_type": "execute_result"
    }
   ],
   "source": [
    "import random, math\n",
    "def test():\n",
    "    n=int(input('请输入所要求的整数个数，以回车结束。'))\n",
    "    m=int(input('请输入一个整数作为m。'))\n",
    "    k=int(input('请输入另一个整数作为k。'))\n",
    "    number=random.randint(m,k)\n",
    "    i=0\n",
    "    total=0\n",
    "    while i<n:\n",
    "        i += 1\n",
    "        total = total + number\n",
    "    oper=total/n\n",
    "    sqr=math.sqrt(oper)\n",
    "    return sqr\n",
    "\n",
    "test()\n",
    "    "
   ]
  },
  {
   "cell_type": "code",
   "execution_count": 28,
   "metadata": {
    "collapsed": false,
    "deletable": true,
    "editable": true
   },
   "outputs": [
    {
     "name": "stdout",
     "output_type": "stream",
     "text": [
      "请输入整数的个数。2\n",
      "请输入一个整数作为m.4\n",
      "请输入一个整数作为k.6\n",
      "test1: 0.6020599913279624\n",
      "test1: 0\n",
      "test1: 1.3010299956639813\n",
      "test1: 0\n"
     ]
    }
   ],
   "source": [
    "import random, math\n",
    "n=int(input('请输入整数的个数。'))\n",
    "m=int(input('请输入一个整数作为m.'))\n",
    "k=int(input('请输入一个整数作为k.'))\n",
    "def test1():\n",
    "    i = 0\n",
    "    total_1 = 0\n",
    "    total_2 = 0\n",
    "    number_2 = 0\n",
    "    while i < n :\n",
    "        i += 1\n",
    "        number = random.randint(m, k)\n",
    "        number_1 = math.log10(number)\n",
    "        number_2 == 1/number_1\n",
    "        total_1 = total_1 + number_1\n",
    "        print('test1:',total_1)\n",
    "        total_2 = total_2 + number_2\n",
    "        print('test1:',total_2)\n",
    "        \n",
    "        \n",
    "test1()        \n",
    "    \n",
    "  "
   ]
  },
  {
   "cell_type": "code",
   "execution_count": 37,
   "metadata": {
    "collapsed": false,
    "deletable": true,
    "editable": true
   },
   "outputs": [
    {
     "data": {
      "text/plain": [
       "12345"
      ]
     },
     "execution_count": 37,
     "metadata": {},
     "output_type": "execute_result"
    }
   ],
   "source": [
    "import random,math\n",
    "def test():\n",
    "    m = random.randint(1,9)\n",
    "    m1 = m*10 + m\n",
    "    m2 = m*100 + m1\n",
    "    m3 = m*1000 + m2\n",
    "    m4 = m*10000 + m3\n",
    "    total = m + m1 + m2 + m3 + m4\n",
    "    return total\n",
    "test()\n"
   ]
  },
  {
   "cell_type": "code",
   "execution_count": 40,
   "metadata": {
    "collapsed": false,
    "deletable": true,
    "editable": true
   },
   "outputs": [
    {
     "name": "stdout",
     "output_type": "stream",
     "text": [
      "请输入一个大于0的整数，作为神秘整数的上界，回车结束。4\n",
      "请输入一个随机的整数。3\n",
      "一共可以猜 2 次\n",
      "你已经猜了 1 次\n",
      "抱歉，你猜小了\n",
      "一共可以猜 2 次\n",
      "你已经猜了 2 次\n",
      "抱歉，你猜小了\n",
      "一共可以猜 2 次\n",
      "你已经猜了 3 次\n",
      "抱歉，你猜小了\n",
      "神秘数字是： 3\n",
      "Lose!\n"
     ]
    }
   ],
   "source": [
    "import random, math\n",
    "\n",
    "\n",
    "def win():\n",
    "    print('Win!')\n",
    "    \n",
    "def lose():\n",
    "    print('Lose!')\n",
    "    \n",
    "def guess_game():\n",
    "    n = int(input('请输入一个大于0的整数，作为神秘整数的上界，回车结束。'))\n",
    "    number = int(input('请输入一个随机的整数。'))\n",
    "    max_times = math.ceil(math.log2(n))\n",
    "    guess_times = 0\n",
    "    while guess_times <= max_times:\n",
    "        guess = random.randint(1, n)\n",
    "        guess_times += 1\n",
    "        print('一共可以猜', max_times, '次')\n",
    "        print('你已经猜了', guess_times, '次')\n",
    "        \n",
    "        if guess == number:\n",
    "            win()\n",
    "            print('神秘数字是：', guess)\n",
    "            print('你比标准次数少', max_times-guess_times, '次')\n",
    "            break\n",
    "        elif guess > number:\n",
    "            print('抱歉，你猜大了')\n",
    "        else:\n",
    "            print('抱歉，你猜小了')\n",
    "    else:\n",
    "        print('神秘数字是：', number)\n",
    "        lose()\n",
    "\n",
    "\n",
    "guess_game()"
   ]
  }
 ],
 "metadata": {
  "kernelspec": {
   "display_name": "Python 3",
   "language": "python",
   "name": "python3"
  },
  "language_info": {
   "codemirror_mode": {
    "name": "ipython",
    "version": 3
   },
   "file_extension": ".py",
   "mimetype": "text/x-python",
   "name": "python",
   "nbconvert_exporter": "python",
   "pygments_lexer": "ipython3",
   "version": "3.6.0"
  }
 },
 "nbformat": 4,
 "nbformat_minor": 2
}
