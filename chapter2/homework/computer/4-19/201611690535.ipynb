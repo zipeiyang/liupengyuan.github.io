{
 "cells": [
  {
   "cell_type": "code",
   "execution_count": 1,
   "metadata": {
    "collapsed": false
   },
   "outputs": [
    {
     "name": "stdout",
     "output_type": "stream",
     "text": [
      "请输入数相加的个数3\n",
      "s=a+aa+aaa+aaaa+aa...a= 931\n"
     ]
    }
   ],
   "source": [
    "import random,math\n",
    "\n",
    "def main():\n",
    "    n=int(input('请输入数相加的个数'))\n",
    "    a=math.ceil(random.randint(1,9))\n",
    "    sum=0\n",
    "    for i in range(n):\n",
    "        sum=sum+a\n",
    "        a=a*10+a\n",
    "    print('s=a+aa+aaa+aaaa+aa...a=',sum)\n",
    "    \n",
    "main()\n"
   ]
  },
  {
   "cell_type": "code",
   "execution_count": 2,
   "metadata": {
    "collapsed": false
   },
   "outputs": [
    {
     "name": "stdout",
     "output_type": "stream",
     "text": [
      "请输入一个整数8\n",
      "40320\n"
     ]
    }
   ],
   "source": [
    "n=int(input('请输入一个整数'))\n",
    "total=1\n",
    "for i in range(1,n+1):\n",
    "  total=total*i\n",
    "print(total)\n"
   ]
  },
  {
   "cell_type": "code",
   "execution_count": 3,
   "metadata": {
    "collapsed": false
   },
   "outputs": [
    {
     "name": "stdout",
     "output_type": "stream",
     "text": [
      "请输入要输入的整数个数3\n",
      "请输入一个整数2\n",
      "请输入一个整数1\n",
      "请输入一个整数1\n",
      "请输入一个整数1\n",
      "次大值是 1\n"
     ]
    }
   ],
   "source": [
    "m=int(input('请输入要输入的整数个数'))\n",
    "max=int(input('请输入一个整数'))\n",
    "max1=0\n",
    "for i in range(1,m+1):\n",
    "    n=int(input('请输入一个整数'))\n",
    "    if n>max:\n",
    "        max1=max\n",
    "        max=n\n",
    "    if n<max:\n",
    "        if n>max1:\n",
    "            max1=n\n",
    "print('次大值是',max1)\n"
   ]
  },
  {
   "cell_type": "code",
   "execution_count": 4,
   "metadata": {
    "collapsed": false
   },
   "outputs": [
    {
     "name": "stdout",
     "output_type": "stream",
     "text": [
      "请输入要输入的整数个数4\n",
      "请输入一个整数2\n",
      "请输入一个整数3\n",
      "请输入一个整数5\n",
      "请输入一个整数6\n",
      "请输入一个整数3\n",
      "次大值是 5\n"
     ]
    }
   ],
   "source": [
    "m=int(input('请输入要输入的整数个数'))\n",
    "max=int(input('请输入一个整数'))\n",
    "max1=0\n",
    "for i in range(1,m+1):\n",
    "    n=int(input('请输入一个整数'))\n",
    "    if n>max:\n",
    "        max1=max\n",
    "        max=n\n",
    "    if n<max:\n",
    "        if n>max1:\n",
    "            max1=n\n",
    "print('次大值是',max1)\n"
   ]
  },
  {
   "cell_type": "code",
   "execution_count": 5,
   "metadata": {
    "collapsed": false
   },
   "outputs": [
    {
     "name": "stdout",
     "output_type": "stream",
     "text": [
      "list中最小数字是： 1\n"
     ]
    }
   ],
   "source": [
    "import math\n",
    "def abc(number):\n",
    "    total=min(number)\n",
    "    return total\n",
    "\n",
    "number=[1,5,9]\n",
    "minnumber=abc(number)\n",
    "print(\"list中最小数字是：\",minnumber)\n"
   ]
  },
  {
   "cell_type": "code",
   "execution_count": 6,
   "metadata": {
    "collapsed": false
   },
   "outputs": [
    {
     "name": "stdout",
     "output_type": "stream",
     "text": [
      "请输入list中的某个数字3\n",
      "此数在list中第 -1 位\n"
     ]
    }
   ],
   "source": [
    "#写函数，返回某个元素/对象在一个list中的位置，如果不在，则返回-1\n",
    "def abc(n,number):\n",
    "    for i in range(0,3):\n",
    "        if n==number[i]:\n",
    "            place=i\n",
    "            break\n",
    "        else:\n",
    "            place=-1\n",
    "    return place\n",
    "\n",
    "\n",
    "number=[1,5,9]\n",
    "n=int(input(\"请输入list中的某个数字\"))\n",
    "place=abc(n,number)\n",
    "print(\"此数在list中第\",place,\"位\")\n"
   ]
  },
  {
   "cell_type": "code",
   "execution_count": 7,
   "metadata": {
    "collapsed": false
   },
   "outputs": [
    {
     "name": "stdout",
     "output_type": "stream",
     "text": [
      "请输入一个向量3\n",
      "请输入一个向量2\n",
      "这两个向量的夹角余弦值是 1.0\n"
     ]
    }
   ],
   "source": [
    "#写函数，可求两个向量的夹角余弦值，向量可放在list中。主程序调用该函数。\n",
    "def abc(number):\n",
    "    if number[0]<0:\n",
    "        x1=-number[0]\n",
    "    else:\n",
    "        x1=number[0]\n",
    "    if number[1]<0:\n",
    "        x2=-number[1]\n",
    "    else:\n",
    "        x2=number[1]\n",
    "    resul=number[0]*number[1]/(x1*x2)\n",
    "    return resul\n",
    "\n",
    "\n",
    "number=[]\n",
    "for i in range(2):\n",
    "    n=int(input(\"请输入一个向量\"))\n",
    "    number.append(n)\n",
    "resul=abc(number)\n",
    "print(\"这两个向量的夹角余弦值是\",resul)\n"
   ]
  }
 ],
 "metadata": {
  "kernelspec": {
   "display_name": "Python 3",
   "language": "python",
   "name": "python3"
  },
  "language_info": {
   "codemirror_mode": {
    "name": "ipython",
    "version": 3
   },
   "file_extension": ".py",
   "mimetype": "text/x-python",
   "name": "python",
   "nbconvert_exporter": "python",
   "pygments_lexer": "ipython3",
   "version": "3.6.0"
  }
 },
 "nbformat": 4,
 "nbformat_minor": 2
}
