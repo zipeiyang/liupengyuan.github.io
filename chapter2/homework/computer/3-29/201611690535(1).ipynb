{
 "cells": [
  {
   "cell_type": "code",
   "execution_count": 37,
   "metadata": {
    "collapsed": false
   },
   "outputs": [
    {
     "ename": "SyntaxError",
     "evalue": "invalid syntax (<ipython-input-37-a8ea07252614>, line 12)",
     "output_type": "error",
     "traceback": [
      "\u001b[1;36m  File \u001b[1;32m\"<ipython-input-37-a8ea07252614>\"\u001b[1;36m, line \u001b[1;32m12\u001b[0m\n\u001b[1;33m    print('最终结果是: ',total_1(m,n))\u001b[0m\n\u001b[1;37m        ^\u001b[0m\n\u001b[1;31mSyntaxError\u001b[0m\u001b[1;31m:\u001b[0m invalid syntax\n"
     ]
    }
   ],
   "source": [
    "def total_1(m,n):\n",
    "    i=0\n",
    "    k=n-m\n",
    "    while i < k :\n",
    "        i=i+1\n",
    "        m=n-k+m+i\n",
    "    \n",
    "    return m\n",
    "\n",
    "m=int(input('请输入第一个整数，以回车结束。'))\n",
    "n=int(input('请输入第二个整数，以回车结束。')\n",
    "print('最终结果是: ',total_1(m,n))"
   ]
  },
  {
   "cell_type": "code",
   "execution_count": 40,
   "metadata": {
    "collapsed": false
   },
   "outputs": [
    {
     "name": "stdout",
     "output_type": "stream",
     "text": [
      "请输入您的姓名，以回车结束lisiqin\n",
      "Hello lisiqin\n",
      "请输入您的出生月份，以回车结束11\n",
      "请输入您的出生日期，以回车结束30\n"
     ]
    },
    {
     "ename": "NameError",
     "evalue": "name 'bitrh_day' is not defined",
     "output_type": "error",
     "traceback": [
      "\u001b[1;31m---------------------------------------------------------------------------\u001b[0m",
      "\u001b[1;31mNameError\u001b[0m                                 Traceback (most recent call last)",
      "\u001b[1;32m<ipython-input-40-0b13399eba27>\u001b[0m in \u001b[0;36m<module>\u001b[1;34m()\u001b[0m\n\u001b[0;32m     65\u001b[0m \u001b[0mbirth_month\u001b[0m\u001b[1;33m=\u001b[0m\u001b[0mint\u001b[0m\u001b[1;33m(\u001b[0m\u001b[0minput\u001b[0m\u001b[1;33m(\u001b[0m\u001b[1;34m'请输入您的出生月份，以回车结束'\u001b[0m\u001b[1;33m)\u001b[0m\u001b[1;33m)\u001b[0m\u001b[1;33m\u001b[0m\u001b[0m\n\u001b[0;32m     66\u001b[0m \u001b[0mbirth_day\u001b[0m\u001b[1;33m=\u001b[0m\u001b[0mint\u001b[0m\u001b[1;33m(\u001b[0m\u001b[0minput\u001b[0m\u001b[1;33m(\u001b[0m\u001b[1;34m'请输入您的出生日期，以回车结束'\u001b[0m\u001b[1;33m)\u001b[0m\u001b[1;33m)\u001b[0m\u001b[1;33m\u001b[0m\u001b[0m\n\u001b[1;32m---> 67\u001b[1;33m \u001b[0mbirth\u001b[0m\u001b[1;33m(\u001b[0m\u001b[0mbirth_month\u001b[0m\u001b[1;33m,\u001b[0m\u001b[0mbirth_day\u001b[0m\u001b[1;33m)\u001b[0m\u001b[1;33m\u001b[0m\u001b[0m\n\u001b[0m",
      "\u001b[1;32m<ipython-input-40-0b13399eba27>\u001b[0m in \u001b[0;36mbirth\u001b[1;34m(birth_month, birth_day)\u001b[0m\n\u001b[0;32m      6\u001b[0m             \u001b[0mprint\u001b[0m\u001b[1;33m(\u001b[0m\u001b[1;34m'你是射手座'\u001b[0m\u001b[1;33m)\u001b[0m\u001b[1;33m\u001b[0m\u001b[0m\n\u001b[0;32m      7\u001b[0m     \u001b[1;32mif\u001b[0m \u001b[0mbirth_month\u001b[0m\u001b[1;33m==\u001b[0m\u001b[1;36m11\u001b[0m\u001b[1;33m:\u001b[0m\u001b[1;33m\u001b[0m\u001b[0m\n\u001b[1;32m----> 8\u001b[1;33m         \u001b[1;32mif\u001b[0m \u001b[0mbitrh_day\u001b[0m\u001b[1;33m>\u001b[0m\u001b[1;36m22\u001b[0m\u001b[1;33m:\u001b[0m\u001b[1;33m\u001b[0m\u001b[0m\n\u001b[0m\u001b[0;32m      9\u001b[0m             \u001b[0mprint\u001b[0m\u001b[1;33m(\u001b[0m\u001b[1;34m'你是射手座'\u001b[0m\u001b[1;33m)\u001b[0m\u001b[1;33m\u001b[0m\u001b[0m\n\u001b[0;32m     10\u001b[0m         \u001b[1;32melse\u001b[0m\u001b[1;33m:\u001b[0m\u001b[1;33m\u001b[0m\u001b[0m\n",
      "\u001b[1;31mNameError\u001b[0m: name 'bitrh_day' is not defined"
     ]
    }
   ],
   "source": [
    "def birth(birth_month,birth_day):\n",
    "    if birth_month==12:\n",
    "        if birth_day>21:\n",
    "            print('您是摩羯座')\n",
    "        else:\n",
    "            print('你是射手座')\n",
    "    if birth_month==11:\n",
    "        if bitrh_day>22:\n",
    "            print('你是射手座')\n",
    "        else:\n",
    "            print('你是天蝎座')\n",
    "    if birth_month==10:\n",
    "        if birth_day>23:\n",
    "            print('您是天蝎座')\n",
    "        else:\n",
    "            print('您是天秤座')\n",
    "    if birth_month==9:\n",
    "        if birth_day>22:\n",
    "            print('您是天秤座')\n",
    "        else:\n",
    "            print('您是处女座')\n",
    "    if birth_month==8:\n",
    "        if bitrh_day>22:\n",
    "            print('您是处女座')\n",
    "        else:\n",
    "            print('您是狮子座')\n",
    "    if birth_month==7:\n",
    "        if birth_day>22:\n",
    "            print('您是狮子座')\n",
    "        else:\n",
    "            print('您是巨蟹座')\n",
    "    if birth_month==6:\n",
    "        if birth_day>22:\n",
    "            print('你是巨蟹座')\n",
    "        else:\n",
    "            print('您是双子座')\n",
    "    if birth_month==5:\n",
    "        if birth_day>20:\n",
    "            print('您是双子座')\n",
    "        else:\n",
    "            print('您是金牛座')\n",
    "    if birth_month==4:\n",
    "        if birth_day>19:\n",
    "            print('您是金牛座')\n",
    "        else:\n",
    "            print('您是白羊座')\n",
    "    if birth_month==3:\n",
    "        if birth_day>20:\n",
    "            print('您是白羊座')\n",
    "        else:\n",
    "            print('您是双鱼座')\n",
    "    if birth_month==2:\n",
    "        if birth_day>18:\n",
    "            print('您是双鱼座')\n",
    "        else:\n",
    "            print('您是水瓶座')\n",
    "    if birth_month==1:\n",
    "        if birth_day>19:\n",
    "            print('您是水瓶座')\n",
    "        else:\n",
    "            print('您是摩羯座')\n",
    "   \n",
    "name=input('请输入您的姓名，以回车结束')\n",
    "print('Hello',name)\n",
    "birth_month=int(input('请输入您的出生月份，以回车结束'))\n",
    "birth_day=int(input('请输入您的出生日期，以回车结束'))\n",
    "birth(birth_month,birth_day)\n"
   ]
  },
  {
   "cell_type": "code",
   "execution_count": 39,
   "metadata": {
    "collapsed": false
   },
   "outputs": [
    {
     "name": "stdout",
     "output_type": "stream",
     "text": [
      "请输入一个单数单词cool\n",
      "在词尾加s\n"
     ]
    }
   ],
   "source": [
    "some_string=input('请输入一个单数单词')\n",
    "if some_string=='photo'or some_string=='piano':\n",
    "    print('在词尾加s')\n",
    "elif some_string.endswith('s')or some_string.endswith('x')or some_string.endswith('o')or some_string.endswith('sh')or some_string.endswith('ch'):\n",
    "    print('在词尾加es')\n",
    "elif some_string.endswith('y'):\n",
    "    print('变y为i加es')\n",
    "elif some_string.endswith('f')or some_string.endswith('fe'):\n",
    "    print('变f或fe为v,再加es')\n",
    "else:\n",
    "    print('在词尾加s')\n"
   ]
  },
  {
   "cell_type": "code",
   "execution_count": 41,
   "metadata": {
    "collapsed": false
   },
   "outputs": [
    {
     "name": "stdout",
     "output_type": "stream",
     "text": [
      "请输入一个单数单词cool\n",
      "在词尾加s\n"
     ]
    }
   ],
   "source": [
    "def compute(some_string):\n",
    "    if some_string=='photo'or some_string=='piano':\n",
    "        print('在词尾加s')\n",
    "    elif some_string.endswith('s')or some_string.endswith('x')or some_string.endswith('o')or some_string.endswith('sh')or some_string.endswith('ch'):\n",
    "        print('在词尾加es')\n",
    "    elif some_string.endswith('y'):\n",
    "        print('变y为i加es')\n",
    "    elif some_string.endswith('f')or some_string.endswith('fe'):\n",
    "        print('变f或fe为v,再加es')\n",
    "    else:\n",
    "        print('在词尾加s')\n",
    "\n",
    "\n",
    "some_string=input('请输入一个单数单词')\n",
    "compute(some_string)\n",
    "    \n"
   ]
  },
  {
   "cell_type": "code",
   "execution_count": null,
   "metadata": {
    "collapsed": true
   },
   "outputs": [],
   "source": []
  }
 ],
 "metadata": {
  "kernelspec": {
   "display_name": "Python 3",
   "language": "python",
   "name": "python3"
  },
  "language_info": {
   "codemirror_mode": {
    "name": "ipython",
    "version": 3
   },
   "file_extension": ".py",
   "mimetype": "text/x-python",
   "name": "python",
   "nbconvert_exporter": "python",
   "pygments_lexer": "ipython3",
   "version": "3.6.0"
  }
 },
 "nbformat": 4,
 "nbformat_minor": 2
}
