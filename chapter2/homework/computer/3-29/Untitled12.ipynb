{
 "cells": [
  {
   "cell_type": "code",
   "execution_count": null,
   "metadata": {
    "collapsed": true
   },
   "outputs": [],
   "source": [
    "n = int(input('请输入第1个整数，以回车结束。'))\n",
    "i = 0\n",
    "sum_n = 0\n",
    "while i < n:\n",
    "    i = i + 1\n",
    "    sum_n = sum_n * i\n",
    "\n",
    "m = int(input('请输入第2个整数，以回车结束。'))\n",
    "i = 0\n",
    "total_m = 0\n",
    "while i < m:\n",
    "    i = i + 1\n",
    "    sum_m = sum_m * i\n",
    "\n",
    "k = int(input('请输入第3个整数，以回车结束。'))\n",
    "i = 0\n",
    "sum_k = 0\n",
    "while i < k:\n",
    "    i = i + 1\n",
    "    sum_k = total_k + i\n",
    "\n",
    "print('最终的和是：', total_n + total_m + total_k)"
   ]
  }
 ],
 "metadata": {
  "kernelspec": {
   "display_name": "Python 3",
   "language": "python",
   "name": "python3"
  },
  "language_info": {
   "codemirror_mode": {
    "name": "ipython",
    "version": 3
   },
   "file_extension": ".py",
   "mimetype": "text/x-python",
   "name": "python",
   "nbconvert_exporter": "python",
   "pygments_lexer": "ipython3",
   "version": "3.6.0"
  }
 },
 "nbformat": 4,
 "nbformat_minor": 2
}
