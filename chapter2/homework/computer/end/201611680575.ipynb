{
 "cells": [
  {
   "cell_type": "markdown",
   "metadata": {},
   "source": [
    "1、随机生成1万个整数，范围在0-10万之间，分别进行简单选择排序、快速排序（自行递归实现的）以及内置sort函数3种排序，打印出3种排序的运行时间。"
   ]
  },
  {
   "cell_type": "markdown",
   "metadata": {},
   "source": [
    "假设有快速排序算法quick_sort(seq)，可以实现快速排序。\n",
    "\n",
    "令left_seq = [], right_seq = []\n",
    "令待排序序列区间的第一个元素为p，即p=seq[0]\n",
    "    对seq的[start+1,end]区间中的每一个元素：\n",
    "        如果元素 < p:\n",
    "            将该元素加入到left_seq中\n",
    "        否则：\n",
    "            将该元素加入到right_seq中\n",
    "            \n",
    "    如left_seq非空，利用快速排序算法quick_sort，对left_seq进行快速排序\n",
    "    如right_seq非空，利用快速排序算法quick_sort，对right_seq进行快速排序\n",
    "    \n",
    "    返回：left_seq + p + right_seq"
   ]
  },
  {
   "cell_type": "code",
   "execution_count": 25,
   "metadata": {
    "collapsed": false
   },
   "outputs": [
    {
     "name": "stdout",
     "output_type": "stream",
     "text": [
      "time for quick-sort： 0.0680234432220459 ------------------------------\n",
      "time for sort-function： 0.059975624084472656 ------------------------------\n",
      "too much time for the simple-sort! I have no patience for the outcome(facepalm) though I've coded it above.\n"
     ]
    }
   ],
   "source": [
    "import random\n",
    "import time\n",
    "\n",
    "def simple_sort(numbers):\n",
    "    for i in range(len(numbers)):\n",
    "        for j in range(i+1,len(numbers)):\n",
    "            min=i\n",
    "            if numbers[min]>numbers[j]:\n",
    "                min=j\n",
    "        numbers[i],numbers[min]=numbers[min],numbers[i]\n",
    "\n",
    "\n",
    "def quick_sort(seq):\n",
    "    left_seq=[]\n",
    "    right_seq=[]\n",
    "    p=seq[0]\n",
    "    start=0\n",
    "    end=len(seq)\n",
    "    for i in range(start+1,end):\n",
    "        if seq[i]<=p:\n",
    "            left_seq.append(seq[i])\n",
    "        else :\n",
    "            right_seq.append(seq[i])\n",
    "    if len(left_seq)!=0:\n",
    "        quick_sort(left_seq)\n",
    "    elif len(right_seq)!=0:\n",
    "        quick_sort(right_seq)\n",
    "    else :\n",
    "        left_seq.append(p)\n",
    "        left_seq.extend(right_seq)\n",
    "        return (left_seq)\n",
    "\n",
    "\n",
    "\n",
    "n=[]\n",
    "for i in range(100000):\n",
    "    n.append(random.randint(1,100000))\n",
    "nums1=[]\n",
    "nums2=[]\n",
    "nums1.extend(n)\n",
    "nums2.extend(n)\n",
    "\n",
    "\n",
    "start_time=time.time()\n",
    "quick_sort(nums2)\n",
    "end_time=time.time()\n",
    "print(\"time for quick-sort：\",end_time-start_time,\"-\"*30)\n",
    "\n",
    "start_time=time.time()\n",
    "num=sorted(n)\n",
    "end_time=time.time()\n",
    "print(\"time for sort-function：\",end_time-start_time,\"-\"*30)\n",
    "\n",
    "#start_time=time.time()\n",
    "#simple_sort(nums1)\n",
    "#end_time=time.time()\n",
    "#print(\"简单排序所用时间：\",end_time-start_time,\"-\"*30)\n",
    "print(\"too much time for the simple-sort! I have no patience for the outcome(facepalm) though I've coded it above.\")"
   ]
  },
  {
   "cell_type": "markdown",
   "metadata": {
    "collapsed": true
   },
   "source": [
    "2、随机生成1万个整数，范围在0-10万之间，求其中每个整数出现的次数。并按照整数大小排序输出整数及出现次数。"
   ]
  },
  {
   "cell_type": "code",
   "execution_count": 34,
   "metadata": {
    "collapsed": false
   },
   "outputs": [
    {
     "name": "stdout",
     "output_type": "stream",
     "text": [
      "Counter({56872: 100, 97824: 100, 1759: 100, 62081: 100, 74962: 100, 79413: 100, 1075: 100, 24188: 100, 25795: 100, 45171: 100, 14959: 100, 1833: 100, 35102: 100, 72922: 100, 59435: 100, 9237: 100, 42951: 100, 92364: 100, 2557: 100, 38106: 100, 55860: 100, 23084: 100, 95520: 100, 77399: 100, 39866: 100, 45658: 100, 7736: 100, 5015: 100, 22571: 100, 41665: 100, 55163: 100, 46165: 100, 5152: 100, 64038: 100, 48933: 100, 37066: 100, 20106: 100, 51833: 100, 66452: 100, 74617: 100, 84349: 100, 74131: 100, 74733: 100, 24452: 100, 36233: 100, 93399: 100, 65218: 100, 54011: 100, 9589: 100, 55584: 100, 99185: 100, 36540: 100, 28442: 100, 67269: 100, 99044: 100, 93298: 100, 7879: 100, 79120: 100, 15056: 100, 96683: 100, 86337: 100, 45368: 100, 92776: 100, 29229: 100, 98128: 100, 611: 100, 85358: 100, 51338: 100, 73012: 100, 59958: 100, 39283: 100, 473: 100, 22390: 100, 7948: 100, 18128: 100, 75861: 100, 23480: 100, 53840: 100, 60757: 100, 22188: 100, 19840: 100, 82116: 100, 85408: 100, 24688: 100, 93769: 100, 38229: 100, 69046: 100, 33284: 100, 18421: 100, 23004: 100, 76906: 100, 59655: 100, 2759: 100, 40229: 100, 47478: 100, 58837: 100, 98467: 100, 52440: 100, 22602: 100, 22329: 100})\n"
     ]
    }
   ],
   "source": [
    "import random\n",
    "from collections import Counter\n",
    "\n",
    "\n",
    "def numbers_and_freq(numbers):\n",
    "    list_needed=Counter()\n",
    "    for i in range(len(numbers)):\n",
    "        list_needed += Counter(i for i in numbers)\n",
    "    return list_needed\n",
    "\n",
    "n=[random.randint(0,100000) for i in range(100)]#test for list of lenth 100\n",
    "the_list=numbers_and_freq(n)\n",
    "print(the_list)"
   ]
  },
  {
   "cell_type": "markdown",
   "metadata": {},
   "source": [
    "3、对本任务中的语料.txt文件，随机抽取其5001-10000行存为test1.txt文件，写函数，可得到其与本任务中test.txt文件的共用字以及独用字（相关概念自行百度）。"
   ]
  },
  {
   "cell_type": "code",
   "execution_count": null,
   "metadata": {
    "collapsed": true
   },
   "outputs": [],
   "source": [
    "from collections import defaultdict\n",
    "import random\n",
    "\n",
    "#制造test1.txt\n",
    "def chose_lines(yuliao.txt):\n",
    "    num_of_line=0\n",
    "    randomline=[]\n",
    "    with open(file) as fh:\n",
    "        fhh=[line for line in fh.split(\"/\")]\n",
    "        num_of_line+=1\n",
    "    for i in range(5001):\n",
    "        randomline=[fhh[i] for i in random.randint(num_of_line)]\n",
    "    return randomline\n",
    "\n",
    "\n",
    "def practice3(file,file2):\n",
    "    "
   ]
  }
 ],
 "metadata": {
  "kernelspec": {
   "display_name": "Python 3",
   "language": "python",
   "name": "python3"
  },
  "language_info": {
   "codemirror_mode": {
    "name": "ipython",
    "version": 3
   },
   "file_extension": ".py",
   "mimetype": "text/x-python",
   "name": "python",
   "nbconvert_exporter": "python",
   "pygments_lexer": "ipython3",
   "version": "3.6.0"
  }
 },
 "nbformat": 4,
 "nbformat_minor": 2
}
