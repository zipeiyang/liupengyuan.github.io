{
 "cells": [
  {
   "cell_type": "code",
   "execution_count": 1,
   "metadata": {
    "collapsed": false
   },
   "outputs": [
    {
     "name": "stdout",
     "output_type": "stream",
     "text": [
      "请输入您想要的符号*\n",
      "请输入您想要的数字5\n",
      "    * \n",
      "   * * \n",
      "  * * * \n",
      " * * * * \n",
      "* * * * * \n",
      " * * * * \n",
      "  * * * \n",
      "   * * \n",
      "    * \n"
     ]
    }
   ],
   "source": [
    "#1菱形\n",
    "def ling(char,num):\n",
    "    for i in range(1,num):\n",
    "        print(' '*(num-i)+char*i)\n",
    "    print(char*num)\n",
    "    for i in range(1,num):\n",
    "        print(' '*i+char*(num-i))\n",
    "char = input('请输入您想要的符号')\n",
    "char = char+' '\n",
    "num = int(input('请输入您想要的数字'))\n",
    "ling(char,num)"
   ]
  },
  {
   "cell_type": "code",
   "execution_count": 2,
   "metadata": {
    "collapsed": false
   },
   "outputs": [
    {
     "name": "stdout",
     "output_type": "stream",
     "text": [
      "输入您想要的数10\n",
      "4037913\n"
     ]
    }
   ],
   "source": [
    "#2递归\n",
    "def jiecheng(n):\n",
    "    sum = 0\n",
    "    if n == 1:\n",
    "        return 1\n",
    "    else:\n",
    "        return n*jiecheng(n-1)\n",
    "n = int(input('输入您想要的数'))\n",
    "sum = 0\n",
    "for i in range(1,n+1):\n",
    "    sum += jiecheng(i)\n",
    "print(sum)"
   ]
  },
  {
   "cell_type": "code",
   "execution_count": 3,
   "metadata": {
    "collapsed": false
   },
   "outputs": [
    {
     "name": "stdout",
     "output_type": "stream",
     "text": [
      "输入您想要的数字10\n",
      "4037913\n"
     ]
    }
   ],
   "source": [
    "#2非递归\n",
    "def jiecheng(n):\n",
    "    sum = 0\n",
    "    for i in range(1,n+1):\n",
    "        k_01 = 1\n",
    "        for j in range(1,i+1):\n",
    "             k_01 *= j\n",
    "        sum += k_01\n",
    "    return sum\n",
    "n = int(input('输入您想要的数字'))\n",
    "print(jiecheng(n))"
   ]
  },
  {
   "cell_type": "code",
   "execution_count": 4,
   "metadata": {
    "collapsed": false
   },
   "outputs": [
    {
     "name": "stdout",
     "output_type": "stream",
     "text": [
      "0 京 Z ['4', '9', '7', '6', '8']\n",
      "\n",
      "1 京 K ['6', '7', '4', '3', '8']\n",
      "\n",
      "2 京 Y ['0', '9', '7', '2', '4']\n",
      "\n",
      "3 京 P ['9', '3', '1', '4', '7']\n",
      "\n",
      "4 京 E ['8', '9', '7', '3', '6']\n",
      "\n",
      "5 京 N ['1', '7', '8', '4', '0']\n",
      "\n",
      "6 京 B ['9', '3', '5', '8', '6']\n",
      "\n",
      "7 京 D ['2', '0', '1', '7', '4']\n",
      "\n",
      "8 京 H ['6', '9', '5', '2', '8']\n",
      "\n",
      "9 京 E ['6', '0', '1', '4', '8']\n",
      "\n"
     ]
    }
   ],
   "source": [
    "#3车牌号\n",
    "import random\n",
    "def find_word():\n",
    "    words=['A','B','C','D','E','F','G','H','J','K','L','M','N','P','Q','R','S','T','U','V','W','X','Y','Z']\n",
    "    word=random.choice(words)\n",
    "    return word\n",
    "def find_number():\n",
    "    numbers=['0','1','2','3','4','5','6','7','8','9']\n",
    "    line=[]\n",
    "    while(len(line)<5):\n",
    "        num=random.choice(numbers)\n",
    "        if num not in line:\n",
    "            line.append(num)\n",
    "    return line\n",
    "for i in range(10):\n",
    "   \n",
    "    print(i,\"京\",find_word(),find_number(),end='')\n",
    "    print('\\n')\n"
   ]
  },
  {
   "cell_type": "code",
   "execution_count": 5,
   "metadata": {
    "collapsed": false
   },
   "outputs": [
    {
     "data": {
      "text/plain": [
       "0.9583148474999099"
      ]
     },
     "execution_count": 5,
     "metadata": {},
     "output_type": "execute_result"
    }
   ],
   "source": [
    "#4向量距离最小值\n",
    "def cosVector(x,y):\n",
    "    if(len(x)!=len(y)):\n",
    "        print('error input,x and y is not in the same space')\n",
    "        return;\n",
    "    result1=0.0;\n",
    "    result2=0.0;\n",
    "    result3=0.0;\n",
    "    for i in range(len(x)):\n",
    "        result1+=x[i]*y[i]   #sum(X*Y)\n",
    "        result2+=x[i]**2     #sum(X*X)\n",
    "        result3+=y[i]**2     #sum(Y*Y)\n",
    "    #print(result1)\n",
    "    #print(result2)\n",
    "    #print(result3)\n",
    "    return result1/((result2*result3)**0.5)\n",
    "min((cosVector([1,2,3,4],[4,5,6,7])),(cosVector([1,2,3,4],[7,8,9,10])),(cosVector([4,5,6,7],[7,8,9,10])))"
   ]
  },
  {
   "cell_type": "code",
   "execution_count": null,
   "metadata": {
    "collapsed": true
   },
   "outputs": [],
   "source": [
    "#5文件操作\n",
    "#（a）\n",
    "import random\n",
    "with open(r'D:\\\\Python36\\\\exam\\\\a.txt','w') as a, open(r'D:\\\\Python36\\\\exam\\\\b.txt','w') as b:\n",
    "    word_a = [0 for i in range(100000)]\n",
    "    word_b = [0 for i in range(100000)]\n",
    "    for i in range(100000):\n",
    "        k = random.randint(1,10000)\n",
    "        if k in word_a:\n",
    "            word_a[k] += 1\n",
    "        else:\n",
    "            word_a[k] = 1\n",
    "    for i in range(1,100001):\n",
    "        if word_a[i] >= 1:\n",
    "            a.write(str(i))\n",
    "            a.write(str(word_a[i]))\n",
    "            a.write('\\\\n')\n",
    "    for i in range(100000):\n",
    "        k = random.randint(1,15000)\n",
    "        if k in word_b:\n",
    "            word_b[k] += 1\n",
    "        else:\n",
    "            word_b[k] = 1\n",
    "    for i in range(1,100001):\n",
    "        if word_b[i] >= 1:\n",
    "            b.write(str(i))\n",
    "            b.write(str(word_b[i]))\n",
    "            b.write('\\\\n')\n",
    "#(b)\n",
    "for i in range(100000):\n",
    "    if word_a[i] >= 0:\n",
    "        s = i\n",
    "        if s == s[::-1]:\n",
    "            print(s,word_a[i])\n",
    "#(c)\n",
    "sum_01 = 0\n",
    "sum_02 = 0\n",
    "for i in range(10000):\n",
    "    if wrod_a[i] >= 1:\n",
    "        sum_01 += word_a[i]\n",
    "        sum_02 += word_a[i]*i\n",
    "print(sum_01,sum_02)\n",
    "#(d)\n",
    "with open('D:\\\\Python36\\\\exam\\\\a.txt','w') as f:\n",
    "    for i in range(100000):\n",
    "        if (word_a[i] >= 1) and (word_b[i] >= 1):\n",
    "            f.write(str(i))\n",
    "            f.write('\\\\n')\n"
   ]
  }
 ],
 "metadata": {
  "kernelspec": {
   "display_name": "Python [default]",
   "language": "python",
   "name": "python3"
  },
  "language_info": {
   "codemirror_mode": {
    "name": "ipython",
    "version": 3
   },
   "file_extension": ".py",
   "mimetype": "text/x-python",
   "name": "python",
   "nbconvert_exporter": "python",
   "pygments_lexer": "ipython3",
   "version": "3.5.2"
  }
 },
 "nbformat": 4,
 "nbformat_minor": 1
}
