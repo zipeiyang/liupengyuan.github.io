{
 "cells": [
  {
   "cell_type": "code",
   "execution_count": 26,
   "metadata": {
    "collapsed": false
   },
   "outputs": [
    {
     "name": "stdout",
     "output_type": "stream",
     "text": [
      "请输入行号：5\n",
      "请输入符号： *\n",
      "    *  \n",
      "   *  *  \n",
      "  *  *  *  \n",
      " *  *  *  *  \n",
      "*  *  *  *  *  \n",
      " *  *  *  *  \n",
      "  *  *  *  \n",
      "   *  *  \n",
      "    *  \n"
     ]
    }
   ],
   "source": [
    "#1.\n",
    "def lingxing(row , xing):\n",
    "    for i in range(row):\n",
    "        print((row-i-1)*' ',end='')\n",
    "        for a in range(i+1):\n",
    "            print(xing,\" \",end='')\n",
    "        print()\n",
    "    for i in range(row-1):\n",
    "        print(\" \"*(i+1),end='')\n",
    "        for a in range(row-i-1):\n",
    "            print(xing,\" \",end='')\n",
    "        print()\n",
    "\n",
    "def main():\n",
    "    row = int(input(\"请输入行号：\"))\n",
    "    xing = input('请输入符号： ')\n",
    "    lingxing(row,xing)\n",
    "main()"
   ]
  },
  {
   "cell_type": "code",
   "execution_count": 31,
   "metadata": {
    "collapsed": false
   },
   "outputs": [
    {
     "name": "stdout",
     "output_type": "stream",
     "text": [
      "请输入n3\n",
      "9\n",
      "9\n"
     ]
    }
   ],
   "source": [
    "#2\n",
    "def feidigui(n):\n",
    "    _sum=1\n",
    "    _all=0\n",
    "    for i in range(n):\n",
    "        _sum=1\n",
    "        for a in range(i+1):\n",
    "            a = a+1\n",
    "            _sum = _sum* a\n",
    "        _all += _sum\n",
    "    print(_all)\n",
    "    return _all\n",
    "def main():\n",
    "    n=int(input('请输入n'))\n",
    "    print(feidigui(n))\n",
    "main()"
   ]
  },
  {
   "cell_type": "code",
   "execution_count": 30,
   "metadata": {
    "collapsed": false
   },
   "outputs": [
    {
     "name": "stdout",
     "output_type": "stream",
     "text": [
      "请输入n:3\n",
      "9\n"
     ]
    }
   ],
   "source": [
    "#2\n",
    "def digui(n):\n",
    "    if n==1:\n",
    "        return 1\n",
    "    else:\n",
    "        return n*digui(n-1)\n",
    "def main():\n",
    "    _all=0\n",
    "    n = int(input('请输入n:'))\n",
    "    for i in range(n):\n",
    "        i=i+1\n",
    "        _all +=digui(i)\n",
    "    print( _all )\n",
    "main()"
   ]
  },
  {
   "cell_type": "code",
   "execution_count": null,
   "metadata": {
    "collapsed": false,
    "scrolled": true
   },
   "outputs": [],
   "source": [
    "#4\n",
    "import math\n",
    "def cos(a,b):\n",
    "    _sum = 0\n",
    "    _sum1 = 0\n",
    "    _sum2 =0\n",
    "    for i in a:\n",
    "        _sum1 += i**2\n",
    "        for q in b:\n",
    "            _sum2 += q**2\n",
    "            _sum+=i*q\n",
    "    _sum1=math.sqrt(_sum1)\n",
    "    _sum2=math.sqrt(_sum2)\n",
    "    return _sum/(_sum1*_sum2)\n",
    "def main():\n",
    "    a = [[],[1,2,3,4],[4,5,6,7],[7,8,9,10]]\n",
    "    if cos(a[1],a[2])>cos(a[2],a[3]):\n",
    "        _max = cos(a[1],a[2])\n",
    "    else :\n",
    "        _max = cos(a[2],a[3])\n",
    "    if cos(a[1],a[3])>_max :\n",
    "        _max = cos(a[1],a[3])\n",
    "    print(_max)\n",
    "main()"
   ]
  },
  {
   "cell_type": "code",
   "execution_count": null,
   "metadata": {
    "collapsed": false
   },
   "outputs": [],
   "source": [
    "import random\n",
    "che_pai=[]\n",
    "num=0\n",
    "while num!=10:\n",
    "    for i in range(5):\n",
    "        if i==0:\n",
    "            letter=['A','B','C','D','E','F','G','H','J','K','L','M','N','P','Q','R','S','T','U','V','W','X','Y','Z']\n",
    "            one = []\n",
    "            one.append(random.choice(letter))\n",
    "        one.append(random.randint(0,9))\n",
    "    if one not in che_pai:\n",
    "        che_pai.append(one)\n",
    "        num += 1\n",
    "i=0\n",
    "for one in che_pai:\n",
    "    i=i+1\n",
    "    print('京 {0}-{1}{2}{3}{4}{5}'.format(one[0],one[1],one[2],one[3],one[4],one[5]))"
   ]
  },
  {
   "cell_type": "code",
   "execution_count": null,
   "metadata": {
    "collapsed": false
   },
   "outputs": [],
   "source": [
    "#5\n",
    "import random\n",
    "b=[]\n",
    "for i in range(100000):\n",
    "    a.append(random.randint(1,10000))\n",
    "with fp open('a.txt'):\n",
    "    for i \n",
    "    fp.write(i)\n",
    "    fp.write(',')\n",
    "    fp.write(j)\n"
   ]
  },
  {
   "cell_type": "code",
   "execution_count": null,
   "metadata": {
    "collapsed": true
   },
   "outputs": [],
   "source": []
  }
 ],
 "metadata": {
  "kernelspec": {
   "display_name": "Python 3",
   "language": "python",
   "name": "python3"
  },
  "language_info": {
   "codemirror_mode": {
    "name": "ipython",
    "version": 3
   },
   "file_extension": ".py",
   "mimetype": "text/x-python",
   "name": "python",
   "nbconvert_exporter": "python",
   "pygments_lexer": "ipython3",
   "version": "3.6.0"
  }
 },
 "nbformat": 4,
 "nbformat_minor": 2
}
