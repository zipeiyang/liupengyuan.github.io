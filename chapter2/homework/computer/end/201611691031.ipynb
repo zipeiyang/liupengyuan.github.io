{
 "cells": [
  {
   "cell_type": "code",
   "execution_count": 9,
   "metadata": {
    "collapsed": false
   },
   "outputs": [
    {
     "name": "stdout",
     "output_type": "stream",
     "text": [
      "     *\n",
      "    * *\n",
      "   * * *\n",
      "  * * * *\n",
      " * * * * *\n",
      "  * * * *\n",
      "   * * *\n",
      "    * *\n",
      "     *\n"
     ]
    }
   ],
   "source": [
    "def abc(a,b):\n",
    "    for i in range(1,b):\n",
    "        print(' '*(b-i)+i*a)\n",
    "    for j in range(b,0,-1):\n",
    "        print((b-j)*' '+j*a)\n",
    "        \n",
    "def main():\n",
    "    abc(' *',5)\n",
    "    \n",
    "if __name__ == '__main__':\n",
    "    main()\n"
   ]
  },
  {
   "cell_type": "code",
   "execution_count": 24,
   "metadata": {
    "collapsed": false
   },
   "outputs": [
    {
     "name": "stdout",
     "output_type": "stream",
     "text": [
      "1!+2!+3!+...+n!= 4037913\n"
     ]
    }
   ],
   "source": [
    "\"\"\"2、用递归和非递归分别实现函数求1!+2!+3!+...+n!，主程序以n=10分别调用。（20分）\"\"\"\n",
    "def asd(n):\n",
    "    sum1=1\n",
    "    sum2=0\n",
    "    for i in range(1,n+1):\n",
    "        sum1=sum1*i\n",
    "        sum2=sum2+sum1\n",
    "    return sum2\n",
    "\n",
    "def main():\n",
    "    print(\"1!+2!+3!+...+n!=\",asd(10))\n",
    "\n",
    "if __name__ == '__main__':\n",
    "    main()\n",
    "\n"
   ]
  },
  {
   "cell_type": "code",
   "execution_count": 31,
   "metadata": {
    "collapsed": false
   },
   "outputs": [
    {
     "name": "stdout",
     "output_type": "stream",
     "text": [
      "1!+2!+3!+...+n!= 4037913\n"
     ]
    }
   ],
   "source": [
    "def dfg(n):\n",
    "    if n==0:\n",
    "        return 1\n",
    "    else:\n",
    "        return n*dfg(n-1)\n",
    "\n",
    "def fgh(n):\n",
    "    if n==0:\n",
    "        return 0\n",
    "    else:\n",
    "        return dfg(n)+fgh(n-1)\n",
    "\n",
    "def main():\n",
    "    print(\"1!+2!+3!+...+n!=\",fgh(10))\n",
    "\n",
    "if __name__ == '__main__':\n",
    "    main()\n",
    "\n",
    "\n",
    "    "
   ]
  },
  {
   "cell_type": "code",
   "execution_count": 54,
   "metadata": {
    "collapsed": false
   },
   "outputs": [
    {
     "name": "stdout",
     "output_type": "stream",
     "text": [
      "1 京A-X9515\n",
      "2 京D-P9998\n",
      "3 京D-V7493\n",
      "4 京H-Y6588\n",
      "5 京R-K6577\n",
      "6 京H-J3149\n",
      "7 京W-K2892\n",
      "8 京X-K3213\n",
      "9 京Z-Y7773\n",
      "10 京M-Z4821\n"
     ]
    }
   ],
   "source": [
    "\"\"\"3、北京车牌号的一般形式为：“京X-YYYYY”，其中X为字母，Y为字母或者数字，字母不能为I或者O，数字只能0-9之间。\n",
    "请编写程序模拟选号过程：一次可以随机生成10个车牌号（不能有重复），依次将其编号为0-9，显示给用户。（20分）\"\"\"\n",
    "import random\n",
    "list1=['A','B','C','D','E','F','G','H','I','J','K','L','M','N','O','P','Q','R','S','T','U','V','W','X','Y','Z']\n",
    "list2=['A','B','C','D','E','F','G','H','J','K','L','M','N','P','Q','R','S','T','U','V','W','X','Y','Z']\n",
    "list3=['0','1','2','3','4','5','6','7','8','9']\n",
    "for i in range(1,11):\n",
    "    print(i,'京',end='')\n",
    "    print(random.choice(list1),end='')\n",
    "    print('-',end='')\n",
    "    print(random.choice(list2),end='')\n",
    "    print(random.choice(list3),end='')\n",
    "    print(random.choice(list3),end='')\n",
    "    print(random.choice(list3),end='')\n",
    "    print(random.choice(list3),end='')\n",
    "    print()\n",
    "    \n",
    " \n",
    "    \n",
    "\n",
    "\n"
   ]
  },
  {
   "cell_type": "code",
   "execution_count": 56,
   "metadata": {
    "collapsed": false
   },
   "outputs": [
    {
     "data": {
      "text/plain": [
       "'4、两个向量间的距离可定义为两个向量间的夹角余弦值，给定三个向量，求向量间距离的最小值。三个向量为：[1,2,3,4],[4,5,6,7],[7,8,9,10]（20分）'"
      ]
     },
     "execution_count": 56,
     "metadata": {},
     "output_type": "execute_result"
    }
   ],
   "source": [
    "\"\"\"4、两个向量间的距离可定义为两个向量间的夹角余弦值，给定三个向量，求向量间距离的最小值。三个向量为：[1,2,3,4],[4,5,6,7],[7,8,9,10]（20分）\"\"\"\n",
    "\n"
   ]
  },
  {
   "cell_type": "code",
   "execution_count": null,
   "metadata": {
    "collapsed": true
   },
   "outputs": [],
   "source": [
    "\"\"\"5、随机生成100000个整数（1-10000之间）作为集合A，随机生成100000个整数（1-15000之间）作为集合B。\n",
    "（a）得到A,B所有出现的数及出现次数，分别输出到文件a.txt，b.txt中（新建文件），请输出多行，每行为两个数，两个数之间用逗号分隔（5分）；\n",
    "（b）列出A中所有回文数（例：12321）以及出现的次数（5分）；\n",
    "（c）列出B中分别由1-5个数字组成的数各自的总次数与总和，并按照总次数排序输出（如223就是3个数字组成的数，2834就是4个数字组成的数）（5分）；\n",
    "（d）从a.txt,b.txt读入得到A与B中出现的数（注意不要次数），计算既出现在A又出现在B中的数，追加输出到文件a.txt（5分）。\n",
    "\"\"\"\n",
    "A=set()\n",
    "B=set()\n",
    "for i in range(100000):\n",
    "    A.add(random.randint(1,10000))\n",
    "for j in range(100000):\n",
    "    B.add(random.randint(1,15000))\n",
    "\n",
    "    "
   ]
  }
 ],
 "metadata": {
  "kernelspec": {
   "display_name": "Python 3",
   "language": "python",
   "name": "python3"
  },
  "language_info": {
   "codemirror_mode": {
    "name": "ipython",
    "version": 3
   },
   "file_extension": ".py",
   "mimetype": "text/x-python",
   "name": "python",
   "nbconvert_exporter": "python",
   "pygments_lexer": "ipython3",
   "version": "3.6.0"
  }
 },
 "nbformat": 4,
 "nbformat_minor": 2
}
