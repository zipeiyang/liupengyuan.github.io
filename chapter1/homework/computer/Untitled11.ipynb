{
 "cells": [
  {
   "cell_type": "markdown",
   "metadata": {
    "deletable": true,
    "editable": true
   },
   "source": [
    "print中可以用''也可以用\"\"来包含直接输出的内容\n",
    "\n",
    "print中 sep=' 'or','or' ,'来分隔输出对象之间的分隔 默认值是一个空格\n",
    "\n",
    "英文单词单数转复数，要求输入一个英文动词（单数形式），能够得到其复数形式，或给出单数转复数形式的建议（提示，some_string.endswith(some_letter)函数可以判断某字符串结尾字符，可尝试运行：'myname'.endswith('me')，liupengyuan'.endswith('n')）。（task 3）\n",
    "\n",
    "task 4 函数的调用等\n",
    "没有return语句或者return语句后面没有参数，调用函数后函数的值都是None。因此，在程序不需要返回值的时候，可以不用return语句。\n",
    "\n",
    "task 5 猜数游戏\n",
    "python语言允许()内的分隔符及变量/对象之间跨越多行，还同时允许其间有空格\n",
    "如：print('''=====游戏菜单=====\n",
    "                1. 游戏说明\n",
    "                2. 开始游戏\n",
    "                3. 退出游戏\n",
    "                4. 制作团队\n",
    "             =====游戏菜单=====''')\n",
    "多行字符串表示的基本格式如下：\n",
    "'''\n",
    "字符行1\n",
    "字符行2\n",
    "字符行3\n",
    "  ...\n",
    "字符行n\n",
    "'''\n",
    "random 模块，math 模块也在task 5 中\n",
    "需要在程序开头 import random\n",
    "random模块内部有一个randint()函数，这个函数需要两个整数参数值，然后返回这两个值之间(闭区间)的一个随机整数 如： number = random.randint(1, 1000)\n",
    "ceil()是math模块中的函数，功能是由一个浮点数得到对应的向上取整的整数。\n",
    "\n",
    "task 6 倒序(数组）\n",
    "打印九九乘法表\n",
    "\n",
    "task 7 回文字符的打印\n",
    "字符串的使用\n",
    "序列切片\n",
    "line = '北京语言大学信息科学学院'\n",
    "x = 4\n",
    "print(line[0:x] + line[x-1:0:-1] + line[0])\n",
    "本段代码中形如序列[m:n:i]的操作称为序列切片，就是从序列中取出索引在[m,n)之间，以i为间隔的所有对象，默认i为1\n",
    "\n",
    "task 8 点字成诗（词）\n",
    "字符的替换 将字符按照分隔符分开\n",
    "\n",
    "task 9 词频统计 抽取语料 二分查找\n",
    "递归 求n! 函数recusive_factorial()自己调用了自己\n",
    "斐波那契数列：1,1,2,3,5,8,13,21，。。。\n",
    "fibonacci(n) = fibonacci(n-1) + fibonacci(n-2)\n",
    "fibonacci(0) = 1\n",
    "fibonacci(1) = 1\n",
    "然后写出递归函数：\n",
    "def fibonacci(n):\n",
    "    if n <= 2:\n",
    "        return 1\n",
    "    else:\n",
    "        return fibonacci(n-1) + fibonacci(n-2)"
   ]
  },
  {
   "cell_type": "code",
   "execution_count": null,
   "metadata": {
    "collapsed": true
   },
   "outputs": [],
   "source": []
  }
 ],
 "metadata": {
  "kernelspec": {
   "display_name": "Python 3",
   "language": "python",
   "name": "python3"
  },
  "language_info": {
   "codemirror_mode": {
    "name": "ipython",
    "version": 3
   },
   "file_extension": ".py",
   "mimetype": "text/x-python",
   "name": "python",
   "nbconvert_exporter": "python",
   "pygments_lexer": "ipython3",
   "version": "3.6.0"
  }
 },
 "nbformat": 4,
 "nbformat_minor": 2
}
